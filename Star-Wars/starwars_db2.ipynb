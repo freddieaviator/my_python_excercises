{
 "cells": [
  {
   "cell_type": "code",
   "execution_count": null,
   "metadata": {},
   "outputs": [],
   "source": [
    "from types import SimpleNamespace\r\n",
    "import os\r\n",
    "import psycopg2\r\n",
    "from psycopg2 import sql\r\n",
    "from psycopg2.extensions import ISOLATION_LEVEL_AUTOCOMMIT\r\n",
    "import requests\r\n",
    "import json\r\n",
    "SWAPI_ROOT = \"https://swapi.dev/api/\"\r\n"
   ]
  },
  {
   "cell_type": "code",
   "execution_count": null,
   "metadata": {},
   "outputs": [],
   "source": [
    "# Connect to an existing database\r\n",
    "# Creates a new database session and returns a new connection instance.\r\n",
    "conn = psycopg2.connect(\r\n",
    "    host = \"db\",\r\n",
    "    dbname = \"postgres\",\r\n",
    "    user = \"postgres\",\r\n",
    "    password = \"example\",\r\n",
    "    port = 5432\r\n",
    ")\r\n",
    "\r\n",
    "#dbname – the database name (database is a deprecated alias)\r\n",
    "#user – user name used to authenticate\r\n",
    "#password – password used to authenticate\r\n",
    "#host – database host address (defaults to UNIX socket if not provided)\r\n",
    "#port – connection port number "
   ]
  },
  {
   "cell_type": "code",
   "execution_count": null,
   "metadata": {},
   "outputs": [],
   "source": [
    "conn.set_isolation_level(ISOLATION_LEVEL_AUTOCOMMIT)"
   ]
  },
  {
   "cell_type": "code",
   "execution_count": null,
   "metadata": {},
   "outputs": [],
   "source": [
    "# Execute a command: this creates a new database\r\n",
    "with conn.cursor() as cur:\r\n",
    "    cur.execute(\"CREATE DATABASE star_wars;\")"
   ]
  },
  {
   "cell_type": "code",
   "execution_count": null,
   "metadata": {},
   "outputs": [],
   "source": [
    "conn.close()"
   ]
  },
  {
   "cell_type": "code",
   "execution_count": 141,
   "metadata": {},
   "outputs": [],
   "source": [
    "conn = psycopg2.connect(\r\n",
    "    host = \"db\",\r\n",
    "    dbname = \"star_wars\",\r\n",
    "    user = \"postgres\",\r\n",
    "    password = \"example\",\r\n",
    "    port = 5432\r\n",
    ")"
   ]
  },
  {
   "cell_type": "code",
   "execution_count": 142,
   "metadata": {},
   "outputs": [],
   "source": [
    "conn.set_isolation_level(ISOLATION_LEVEL_AUTOCOMMIT)"
   ]
  },
  {
   "cell_type": "code",
   "execution_count": 157,
   "metadata": {},
   "outputs": [],
   "source": [
    "# Open a cursor to perform database operations\r\n",
    "cur = conn.cursor()"
   ]
  },
  {
   "cell_type": "code",
   "execution_count": 167,
   "metadata": {},
   "outputs": [],
   "source": [
    "   resource_types = [\r\n",
    "        \"films\",\r\n",
    "        \"people\",\r\n",
    "        \"planets\",\r\n",
    "        \"species\",\r\n",
    "        \"starships\",\r\n",
    "        \"vehicles\",\r\n",
    "    ]"
   ]
  },
  {
   "cell_type": "code",
   "execution_count": 168,
   "metadata": {},
   "outputs": [],
   "source": [
    "def create_table_from_schema(schema_name):\r\n",
    "\r\n",
    "    def import_schema(schema):\r\n",
    "        with open(f\"work/schemas/{schema}.json\", 'r') as fp:\r\n",
    "            result = json.load(fp)\r\n",
    "            return result\r\n",
    "        fp.close()\r\n",
    "\r\n",
    "    def convert_python_postgres(dictionary):\r\n",
    "        for element in dictionary['properties']:\r\n",
    "            if dictionary['properties'][element]['type'] == \"string\":\r\n",
    "                dictionary['properties'][element]['type'] = \"VARCHAR\"\r\n",
    "        \r\n",
    "            if dictionary['properties'][element]['type'] == \"array\":\r\n",
    "                dictionary['properties'][element]['type'] = \"VARCHAR[]\"\r\n",
    "        \r\n",
    "        return dictionary\r\n",
    "\r\n",
    "    def create_table(dictionary):\r\n",
    "        try:\r\n",
    "            table_name = dictionary['title']\r\n",
    "            cur.execute(\"CREATE TABLE IF NOT EXISTS {} (id SERIAL PRIMARY KEY);\".format(table_name))\r\n",
    "            for element in dictionary['properties']:\r\n",
    "                cur.execute(\"ALTER TABLE {} ADD COLUMN {} {};\".format(table_name,element,dictionary['properties'][element]['type']))\r\n",
    "\r\n",
    "        except (Exception, psycopg2.Error) as error:\r\n",
    "            print(f\"Error-code: {error}\")\r\n",
    "\r\n",
    "\r\n",
    "    result = import_schema(schema_name)\r\n",
    "    result = convert_python_postgres(result)\r\n",
    "    create_table(result)\r\n",
    "   \r\n",
    "for resource_type in resource_types:\r\n",
    "    create_table_from_schema(resource_type)\r\n",
    "\r\n",
    "conn.commit()"
   ]
  },
  {
   "cell_type": "code",
   "execution_count": 182,
   "metadata": {},
   "outputs": [],
   "source": [
    "def fill_tables():\r\n",
    "    def get_swapi_resource(path: str):\r\n",
    "        r = requests.get(SWAPI_ROOT + path)\r\n",
    "        if r.ok:\r\n",
    "            return r.json()\r\n",
    "        else:\r\n",
    "            return None\r\n",
    "\r\n",
    "   \r\n",
    "    for resource_type in resource_types:\r\n",
    "        resource = get_swapi_resource(resource_type)\r\n",
    "        result = list()\r\n",
    "        counter = 0\r\n",
    "        i = 1\r\n",
    "        while counter < resource[\"count\"]:\r\n",
    "            response = get_swapi_resource(f\"{resource_type}/{i}\")\r\n",
    "            i += 1\r\n",
    "            if response != None:\r\n",
    "                counter += 1\r\n",
    "                result.append(response)\r\n",
    "        for r in result:\r\n",
    "            keys = r.keys()\r\n",
    "            columns = ','.join(keys)\r\n",
    "            values = ','.join(['%({})s'.format(k) for k in keys])\r\n",
    "            insert = 'insert into {0} ({1}) values ({2})'.format(resource_type,columns, values)\r\n",
    "            cur.execute(cur.mogrify(insert, r))\r\n",
    "            \r\n",
    "\r\n",
    "fill_tables()\r\n",
    "conn.commit()"
   ]
  }
 ],
 "metadata": {
  "kernelspec": {
   "display_name": "Python 3",
   "language": "python",
   "name": "python3"
  },
  "language_info": {
   "name": "python",
   "version": ""
  },
  "orig_nbformat": 4
 },
 "nbformat": 4,
 "nbformat_minor": 2
}